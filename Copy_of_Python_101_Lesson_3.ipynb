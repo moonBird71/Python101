{
  "cells": [
    {
      "cell_type": "markdown",
      "metadata": {
        "id": "view-in-github",
        "colab_type": "text"
      },
      "source": [
        "<a href=\"https://colab.research.google.com/github/moonBird71/Python101/blob/main/Copy_of_Python_101_Lesson_3.ipynb\" target=\"_parent\"><img src=\"https://colab.research.google.com/assets/colab-badge.svg\" alt=\"Open In Colab\"/></a>"
      ]
    },
    {
      "cell_type": "markdown",
      "metadata": {
        "id": "as6LtP8GIIkK"
      },
      "source": [
        "# Python 101\n",
        "\n",
        "Welcome to Python 101, a basic class on Python that will be the gateway class to future projects, like introduction to ML using Python, and others.  This notebook is only for lesson one.  A new notebook will be created for future lessons and you can work in the notebook or take the code out and work in your preferred Integrated Development Environment (IDE).  We'll be going over what a Jupyter notebook is, and what a few IDEs you can look at are as well.  Choose the best environment for you!\n",
        "\n",
        "## What you need for this class\n",
        "- A computer with any Operating System (Windows, Mac, Linux)\n",
        "- Jupyter Notebook Environment\n",
        "- Internet Connection\n",
        "- Github Account\n",
        "- 1 hour per class!\n",
        "\n",
        "Every class may require different items, but we'll talk about what you need going into the next class at the end of each hour.\n",
        "\n",
        "All classes are recorded (if you speak during the initial class recording in voice chat, please be aware that your voice will be recorded in the class video) and can be reviewed at a later time.  With that understood, let's get started."
      ]
    },
    {
      "cell_type": "markdown",
      "metadata": {
        "id": "qp3z8512IIkP"
      },
      "source": [
        "This class we will be going over logic, loops and projects.\n",
        "\n",
        "### Logical Statements\n",
        "\n",
        "Logical statements are questions where a choice has to be made in the program.  Consider the example of a parent talking to a child who needs to clean their room, but would rather go out and play with their friends.  A statement the parent makes might look like:\n",
        "\n",
        "\"If you clean your room, you can go hang out with your friends?\"\n",
        "\n",
        "This is also considered a conditional statement.  If x happens, then y.  You'll see these a lot in programming so we're going to focus on learning how to set these up in Python.\n",
        "\n",
        "Key phrases we'll need to know:\n",
        "\n",
        "- IF\n",
        "- THEN\n",
        "- ELSE\n",
        "- IF ELSE\n",
        "\n",
        "Consider this statement:\n",
        "\n",
        "IF a condition is met, THEN an action is preformed; OR IF ELSE condition is met, THEN another action is preformed, ELSE a final action is preformed because no conditions were met.\n",
        "\n",
        "Example in the following image is:\n",
        "\n",
        "IF it is snowing, THEN wear boots, ELSE wear shoes.\n",
        "\n",
        "[flowchart.PNG](attachment:flowchart.PNG)\n",
        "Image from [MakeCode](https://makecode.microbit.org/v1/courses/csintro/conditionals/overview)\n",
        "\n",
        "Each 'if' starts a new condition block\n",
        "\n",
        "If want mulitple 'if's in a condition block, use 'elif'"
      ]
    },
    {
      "cell_type": "code",
      "execution_count": null,
      "metadata": {
        "id": "vPwH96xUIIkQ",
        "outputId": "fc59f95f-cb81-46f4-e8bf-1d5b70924148",
        "colab": {
          "base_uri": "https://localhost:8080/"
        }
      },
      "outputs": [
        {
          "output_type": "stream",
          "name": "stdout",
          "text": [
            "6 is less than 15\n",
            "This print statement is outside of the conditions above.\n",
            "\n",
            "\n",
            "This next example shows a nested if statement!\n",
            "\n",
            "Y is smaller than 150\n",
            "Y is smaller than 100 too\n",
            "\n",
            "\n",
            "Now we'll look at an example which uses IF ELSE statements, which appear as ELIF in Python\n",
            "x is 20\n"
          ]
        }
      ],
      "source": [
        "z = 6\n",
        "\n",
        "if (z > 15):\n",
        "    print(\"6 is greater than 15\")\n",
        "else:\n",
        "    print(\"6 is less than 15\")\n",
        "\n",
        "print(\"This print statement is outside of the conditions above.\")\n",
        "\n",
        "print(\"\\n\\nThis next example shows a nested if statement!\\n\")\n",
        "\n",
        "y = 50\n",
        "# First IF\n",
        "if (y == 50):\n",
        "    #Second, Nested IF.  Only executes if first one is true.\n",
        "    if (y < 150):\n",
        "        print(\"Y is smaller than 150\")\n",
        "        # Third IF, only executes if first and second are true.\n",
        "        if (y < 100):\n",
        "            print(\"Y is smaller than 100 too\")\n",
        "    else:\n",
        "        print(\"Y is greater than 150\")\n",
        "else: print(\"Y is has the wrong value...weird.\")\n",
        "\n",
        "print(\"\\n\\nNow we'll look at an example which uses IF ELSE statements,\" \\\n",
        "      \" which appear as ELIF in Python\")\n",
        "        \n",
        "x = 20\n",
        "if (x == 10):\n",
        "    print(\"x is 10\")\n",
        "elif (x == 15):\n",
        "    print(\"x is 15\")\n",
        "elif (x == 20):\n",
        "    print(\"x is 20\")\n",
        "else:\n",
        "    print(\"x is not present\")"
      ]
    },
    {
      "cell_type": "markdown",
      "metadata": {
        "id": "zAGXJ-O6IIkT"
      },
      "source": [
        "### Logical Operators\n",
        "The three logical operators we'll be discussing are:\n",
        "- Logical OR\n",
        "- Logical AND\n",
        "- Logical NOT\n",
        "\n",
        "Logical OR:\n",
        "\n",
        "True if either of the operands is true, such as x OR y.\n",
        "\n",
        "Logical AND:\n",
        "\n",
        "True if both operands are true, such as x AND y.\n",
        "\n",
        "Logical NOT:\n",
        "\n",
        "True if operand is false, such as NOT x.\n",
        "\n",
        "The following image gives a few examples of how this works.  These are often key components to flow charts or design outlines for a larger programming project.\n",
        "\n",
        "[LogicalOperators.png](attachment:LogicalOperators.png)\n",
        "Image from [Inderpsingh Blogspot](https://inderpsingh.blogspot.com/2019/09/PythonTutorial5.html)\n",
        "\n",
        "Now, let's look at an example:"
      ]
    },
    {
      "cell_type": "code",
      "execution_count": null,
      "metadata": {
        "id": "ktoE7ySyIIkT",
        "colab": {
          "base_uri": "https://localhost:8080/"
        },
        "outputId": "c03a6d0f-bf66-4aec-8f00-71af7f7e7c9b"
      },
      "outputs": [
        {
          "output_type": "stream",
          "name": "stdout",
          "text": [
            "First let's look at AND statements.\n",
            "\n",
            "We're going to check if 13 and 13 are both greater than zero.\n",
            "Both numbers are greater than 0\n",
            "Now we'll check if 13 , 13 , and -13 are greater than zero.\n",
            "Out of the three, one or more of the numbers are not greater than 0.\n",
            "\n",
            "\n",
            "Next, we'll look at OR statements.\n",
            "\n",
            "Either of the number is greater than 0\n",
            "No number is greater than 0\n",
            "\n",
            "\n",
            "Now we'll look at NOT statements.\n",
            "\n",
            "100 is cleanly divisible by either 3 or 5\n"
          ]
        }
      ],
      "source": [
        "print(\"First let's look at AND statements.\\n\")\n",
        "a = 13\n",
        "b = 13\n",
        "c = -13\n",
        "\n",
        "print(\"We're going to check if\", a, \"and\", b, \"are both greater than zero.\")\n",
        "if a > 0 and b > 0:\n",
        "    print(\"Both numbers are greater than 0\")\n",
        "\n",
        "    \n",
        "print(\"Now we'll check if\", a, \",\", b, \", and\", c, \"are greater than zero.\")\n",
        "if a > 0 and b > 0 and c > 0:\n",
        "    print(\"All three numbers are greater than 0.\")\n",
        "else:\n",
        "    print(\"Out of the three, one or more of the numbers are not greater than 0.\")\n",
        "\n",
        "print(\"\\n\\nNext, we'll look at OR statements.\\n\")\n",
        "d = 7\n",
        "e = -11\n",
        "f = 0\n",
        "    \n",
        "if d > 0 or e > 0:\n",
        "    print(\"Either of the number is greater than 0\")\n",
        "else:\n",
        "    print(\"No number is greater than 0\")\n",
        "\n",
        "if e > 0 or f > 0:\n",
        "    print(\"Either of the number is greater than 0\")\n",
        "else:\n",
        "    print(\"No number is greater than 0\")\n",
        "\n",
        "print(\"\\n\\nNow we'll look at NOT statements.\\n\")\n",
        "g = 100\n",
        "  \n",
        "if not g:\n",
        "    print(\"Boolean value of a is True\")\n",
        "\n",
        "if not (g%3 == 0 or g%5 == 0):\n",
        "    print(\"100 is not cleanly divisible by either 3 or 5\")\n",
        "else:\n",
        "    print(\"100 is cleanly divisible by either 3 or 5\")"
      ]
    },
    {
      "cell_type": "markdown",
      "metadata": {
        "id": "ghXpTXhxIIkU"
      },
      "source": [
        "### Logical Loops\n",
        "\n",
        "Loops help us go through a series of actions without having to type out each step along the way.  These are often paired with logical statements and logical operators, especially if a break condition is required.\n",
        "\n",
        "The two main forms of loops in Python are:\n",
        "- For Loop\n",
        "- While Loop\n",
        "\n",
        "For loops are used for sequential operations or situations where we need to go through a finite series of directions.  Some call these definite iterations where the number of loops is identified specifically at the start.\n",
        "\n",
        "Python's syntax for loops is:\n",
        "\n",
        "FOR var IN count:\n",
        "    Code\n",
        "    \n",
        "A while loop will continue until a condition is satisfied or a break is used.  We'll talk about breaks more in future classes.  For now, consider While loops to be indefinitie iterations, meaning they continue until broken.\n",
        "\n",
        "Python's syntax for while loops is:\n",
        "    WHILE terms:\n",
        "        Code\n",
        "\n",
        "[content_flowchart1.png](attachment:content_flowchart1.png)\n",
        "Image from [DataCamp](https://www.datacamp.com/community/tutorials/tutorial-on-loops-in-r)"
      ]
    },
    {
      "cell_type": "code",
      "execution_count": null,
      "metadata": {
        "id": "cSyU7p3BIIkU",
        "colab": {
          "base_uri": "https://localhost:8080/"
        },
        "outputId": "195003e7-0f3a-44c4-8e7d-0ce544546d05"
      },
      "outputs": [
        {
          "output_type": "stream",
          "name": "stdout",
          "text": [
            "Let's look at how we can use a string as the count and process characters!\n",
            "\n",
            "String Iteration\n",
            "S\n",
            "p\n",
            "i\n",
            "d\n",
            "e\n",
            "r\n",
            "s\n",
            "\n",
            "This also combines a for loop with a logical operator!\n",
            "Current Letter : w\n",
            "Current Letter : a\n",
            "Current Letter : r\n",
            "Current Letter : h\n",
            "Current Letter : b\n",
            "Current Letter : s\n",
            "\n",
            "\n",
            "Now let's look at While Loops\n",
            "Hello Spiders\n",
            "Hello Spiders\n",
            "Hello Spiders\n",
            "Hello Spiders\n",
            "Hello Spiders\n",
            "Hello Spiders\n",
            "Hello Spiders\n",
            "Hello Spiders\n"
          ]
        }
      ],
      "source": [
        "print(\"Let's look at how we can use a string as the count and process characters!\")\n",
        "# Iterating over a String\n",
        "print(\"\\nString Iteration\")\n",
        "s = \"Spiders\"\n",
        "for i in s:\n",
        "    print(i)\n",
        "\n",
        "#ignores 'e' or 't'\n",
        "print(\"\\nThis also combines a for loop with a logical operator!\")\n",
        "for letter in 'wearethebest':\n",
        "    if letter == 'e' or letter == 't':\n",
        "        continue\n",
        "    print('Current Letter :', letter)\n",
        "\n",
        "print(\"\\n\\nNow let's look at While Loops\")\n",
        "count = 0\n",
        "while (count < 8):   \n",
        "    count = count + 1\n",
        "    #'count += 1' works too\n",
        "    print(\"Hello Spiders\")"
      ]
    },
    {
      "cell_type": "markdown",
      "metadata": {
        "id": "LMuYPou9IIkV"
      },
      "source": [
        "### Putting it Together\n",
        "\n",
        "Now that we've learned this, we can do some really cool things!  By the end of this class you should be able to complete a project of your choice.  Choose something that interests you and think about how you can create a script around that.  For a project you'll end up using a lot of what we've covered in the past two classes, which we'll be going into more detail with soon.\n",
        "\n",
        "To end today's lesson, we'll be looking at this short code that could be used as a baseline project: a typewriter.  This project uses a defined function (we'll go into these in more details in a future lesson), strings, a for loop, and a library called 'time'.\n",
        "\n",
        "Time is a library that interacts with your system.  It can pass the local time of your host to your code, and is often used to help generate random numbers.  Here we're using it to pause the output of our code to give it a typewriter style.\n",
        "\n",
        "The output is not pre-defined, which is what we've been doing throughout the class so far.  Instead we are letting the user input something first.  This is done using the function input(\"\"), which is predefined in Python.  We'll learn more about this going forward too.\n",
        "\n",
        "Let's see this typewriter in action!"
      ]
    },
    {
      "cell_type": "code",
      "execution_count": 15,
      "metadata": {
        "id": "cacYCveWIIkV",
        "colab": {
          "base_uri": "https://localhost:8080/"
        },
        "outputId": "5dd6ca5d-c325-4811-cf39-ea780edf650e"
      },
      "outputs": [
        {
          "output_type": "stream",
          "name": "stdout",
          "text": [
            "Hello World!\n",
            "Typewriter 1 (uses flush, end, and sleep): \n",
            "Hello World!\n",
            "Typewriter 2 (uses flush, sleep, but not end): \n",
            "H\n",
            "e\n",
            "l\n",
            "l\n",
            "o\n",
            " \n",
            "W\n",
            "o\n",
            "r\n",
            "l\n",
            "d\n",
            "!\n",
            "Typewriter 3 (uses flush, end, but not sleep): \n",
            "Hello World!\n",
            "Typewriter 3 (uses end, sleep, but not flush): \n",
            "Hello World!"
          ]
        }
      ],
      "source": [
        "#HW: play with this, send the github link to Cy\n",
        "from time import sleep\n",
        "\n",
        "# Parameter needed for the typewriter is the user input (here labeled a string)\n",
        "# flush - flushes the input buffer\n",
        "#   default is False\n",
        "# end - is what gets put on the end of the print statement\n",
        "#   default is '\\n'\n",
        "#   since we're using a for loop, need to change the default or it would go to a new line for each letter\n",
        "#   end = \"\" makes the output all on the same line\n",
        "\n",
        "def typewriter(string):\n",
        "    # We're using a for loop here to go through each char of string.\n",
        "    for letter in str(string):\n",
        "        # End and flush are parameters for print we don't usually see.\n",
        "        # End is empty here to show there is no expected end.\n",
        "        # Flush forces the print function to render each character before printing it to the screen.\n",
        "        print(letter, end=\"\", flush = True)\n",
        "        sleep(.5)\n",
        " #   main()\n",
        "def typewriter2(string):\n",
        "    for letter in str(string):\n",
        "        print(letter, flush = True)\n",
        "        sleep(.5)\n",
        "\n",
        "def typewriter3(string):\n",
        "    for letter in str(string):\n",
        "        print(letter, end=\"\", flush = True)\n",
        "        #sleep(.5)\n",
        "\n",
        "def typewriter4(string):\n",
        "    for letter in str(string):\n",
        "        print(letter, end=\"\", flush = False)\n",
        "        sleep(.5)\n",
        "\n",
        "def main():\n",
        "    usrin = input(\"\")\n",
        "    print(\"Typewriter 1 (uses flush, end, and sleep): \")\n",
        "    typewriter(usrin)\n",
        "    print()\n",
        "    print(\"Typewriter 2 (uses flush, sleep, but not end): \")\n",
        "    typewriter2(usrin)\n",
        "    print(\"Typewriter 3 (uses flush, end, but not sleep): \")\n",
        "    typewriter3(usrin)\n",
        "    print()\n",
        "    print(\"Typewriter 3 (uses end, sleep, but not flush): \")\n",
        "    typewriter4(usrin)\n",
        "\n",
        "main()"
      ]
    },
    {
      "cell_type": "markdown",
      "metadata": {
        "id": "jZcex9xYIIkW"
      },
      "source": [
        ""
      ]
    }
  ],
  "metadata": {
    "kernelspec": {
      "display_name": "Python 3",
      "language": "python",
      "name": "python3"
    },
    "language_info": {
      "codemirror_mode": {
        "name": "ipython",
        "version": 3
      },
      "file_extension": ".py",
      "mimetype": "text/x-python",
      "name": "python",
      "nbconvert_exporter": "python",
      "pygments_lexer": "ipython3",
      "version": "3.7.6"
    },
    "colab": {
      "name": "Copy of Python 101 - Lesson 3.ipynb",
      "provenance": [],
      "include_colab_link": true
    }
  },
  "nbformat": 4,
  "nbformat_minor": 0
}