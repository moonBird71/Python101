{
  "nbformat": 4,
  "nbformat_minor": 0,
  "metadata": {
    "kernelspec": {
      "display_name": "Python 3",
      "language": "python",
      "name": "python3"
    },
    "language_info": {
      "codemirror_mode": {
        "name": "ipython",
        "version": 3
      },
      "file_extension": ".py",
      "mimetype": "text/x-python",
      "name": "python",
      "nbconvert_exporter": "python",
      "pygments_lexer": "ipython3",
      "version": "3.7.6"
    },
    "colab": {
      "name": "Copy of Python 101 - Lesson 2.ipynb",
      "provenance": [],
      "include_colab_link": true
    }
  },
  "cells": [
    {
      "cell_type": "markdown",
      "metadata": {
        "id": "view-in-github",
        "colab_type": "text"
      },
      "source": [
        "<a href=\"https://colab.research.google.com/github/moonBird71/Python101/blob/main/Copy_of_Python_101_Lesson_2.ipynb\" target=\"_parent\"><img src=\"https://colab.research.google.com/assets/colab-badge.svg\" alt=\"Open In Colab\"/></a>"
      ]
    },
    {
      "cell_type": "markdown",
      "metadata": {
        "id": "6-Ja86mFcDu5"
      },
      "source": [
        "# Python 101\n",
        "\n",
        "Welcome to Python 101, a basic class on Python that will be the gateway class to future projects, like introduction to ML using Python, and others.  This notebook is only for lesson two.  A new notebook will be created for future lessons and you can work in the notebook or take the code out and work in your preferred Integrated Development Environment (IDE).\n",
        "\n",
        "## What you need for this class\n",
        "- A computer with any Operating System (Windows, Mac, Linux)\n",
        "- Jupyter Notebook Environment\n",
        "- Internet Connection\n",
        "- Github Account\n",
        "- 1 hour per class!\n",
        "\n",
        "Every class may require different items, but we'll talk about what you need going into the next class at the end of each hour.\n",
        "\n",
        "All classes are recorded (if you speak during the initial class recording in voice chat, please be aware that your voice will be recorded in the class video) and can be reviewed at a later time.  With that understood, let's get started."
      ]
    },
    {
      "cell_type": "markdown",
      "metadata": {
        "id": "ukPHhjircDu7"
      },
      "source": [
        "## Lesson 2\n",
        "\n",
        "Today's class will introduce variables, variable types, and ways to make sure the variable you're using is the type you expect.  Building from the end of Lesson 1, we'll also discuss printing and completing a function within a print statement.  Finally, we'll go over basic maths, library imports, and formating!\n",
        "\n",
        "After this class, we'll be working on Challenge 1!\n",
        "\n",
        "<font color = red>**Hint**</font>:\n",
        "    The following urls may help with the challenge, and are prety fun.\n",
        "        https://www.asciiart.eu/\n",
        "        https://www.geeksforgeeks.org/python-ascii-art-using-pyfiglet-module/"
      ]
    },
    {
      "cell_type": "markdown",
      "metadata": {
        "id": "GLvuZBpjcDu7"
      },
      "source": [
        "To begin, we're going to import a library.  Python has a lot of libraries built into it, and some may use the same function names so to avoid these issues, we'll be importing a library and sublibrary to work with.  If you need to install a new library that isn't in your Jupyter Notebook environment you can do so using the following in a code block:\n",
        "\n",
        "`!pip install LibraryName`\n",
        "\n",
        "(some versions need pip3)\n",
        "\n",
        "Once you do that, or if the library is already installed, you want to import the library.\n",
        "\n",
        "`import LibraryName`\n",
        "\n",
        "And in cases where you only want a specific (or series) of functions from that library you can do the following:\n",
        "\n",
        "`from LibraryName import FunctionName`\n",
        "\n",
        "Let's test this out with pyfiglet."
      ]
    },
    {
      "cell_type": "code",
      "metadata": {
        "id": "fCU447PEcDu8",
        "outputId": "7d3f9bf0-5eb5-4c0e-bc43-fe0aacf279a1",
        "colab": {
          "base_uri": "https://localhost:8080/"
        }
      },
      "source": [
        "!pip install pyfiglet"
      ],
      "execution_count": null,
      "outputs": [
        {
          "output_type": "stream",
          "name": "stdout",
          "text": [
            "Collecting pyfiglet\n",
            "  Downloading pyfiglet-0.8.post1-py2.py3-none-any.whl (865 kB)\n",
            "\u001b[?25l\r\u001b[K     |▍                               | 10 kB 20.9 MB/s eta 0:00:01\r\u001b[K     |▊                               | 20 kB 26.5 MB/s eta 0:00:01\r\u001b[K     |█▏                              | 30 kB 12.9 MB/s eta 0:00:01\r\u001b[K     |█▌                              | 40 kB 9.6 MB/s eta 0:00:01\r\u001b[K     |██                              | 51 kB 5.0 MB/s eta 0:00:01\r\u001b[K     |██▎                             | 61 kB 5.2 MB/s eta 0:00:01\r\u001b[K     |██▋                             | 71 kB 5.8 MB/s eta 0:00:01\r\u001b[K     |███                             | 81 kB 6.5 MB/s eta 0:00:01\r\u001b[K     |███▍                            | 92 kB 4.7 MB/s eta 0:00:01\r\u001b[K     |███▉                            | 102 kB 5.1 MB/s eta 0:00:01\r\u001b[K     |████▏                           | 112 kB 5.1 MB/s eta 0:00:01\r\u001b[K     |████▌                           | 122 kB 5.1 MB/s eta 0:00:01\r\u001b[K     |█████                           | 133 kB 5.1 MB/s eta 0:00:01\r\u001b[K     |█████▎                          | 143 kB 5.1 MB/s eta 0:00:01\r\u001b[K     |█████▊                          | 153 kB 5.1 MB/s eta 0:00:01\r\u001b[K     |██████                          | 163 kB 5.1 MB/s eta 0:00:01\r\u001b[K     |██████▍                         | 174 kB 5.1 MB/s eta 0:00:01\r\u001b[K     |██████▉                         | 184 kB 5.1 MB/s eta 0:00:01\r\u001b[K     |███████▏                        | 194 kB 5.1 MB/s eta 0:00:01\r\u001b[K     |███████▋                        | 204 kB 5.1 MB/s eta 0:00:01\r\u001b[K     |████████                        | 215 kB 5.1 MB/s eta 0:00:01\r\u001b[K     |████████▎                       | 225 kB 5.1 MB/s eta 0:00:01\r\u001b[K     |████████▊                       | 235 kB 5.1 MB/s eta 0:00:01\r\u001b[K     |█████████                       | 245 kB 5.1 MB/s eta 0:00:01\r\u001b[K     |█████████▌                      | 256 kB 5.1 MB/s eta 0:00:01\r\u001b[K     |█████████▉                      | 266 kB 5.1 MB/s eta 0:00:01\r\u001b[K     |██████████▏                     | 276 kB 5.1 MB/s eta 0:00:01\r\u001b[K     |██████████▋                     | 286 kB 5.1 MB/s eta 0:00:01\r\u001b[K     |███████████                     | 296 kB 5.1 MB/s eta 0:00:01\r\u001b[K     |███████████▍                    | 307 kB 5.1 MB/s eta 0:00:01\r\u001b[K     |███████████▊                    | 317 kB 5.1 MB/s eta 0:00:01\r\u001b[K     |████████████                    | 327 kB 5.1 MB/s eta 0:00:01\r\u001b[K     |████████████▌                   | 337 kB 5.1 MB/s eta 0:00:01\r\u001b[K     |████████████▉                   | 348 kB 5.1 MB/s eta 0:00:01\r\u001b[K     |█████████████▎                  | 358 kB 5.1 MB/s eta 0:00:01\r\u001b[K     |█████████████▋                  | 368 kB 5.1 MB/s eta 0:00:01\r\u001b[K     |██████████████                  | 378 kB 5.1 MB/s eta 0:00:01\r\u001b[K     |██████████████▍                 | 389 kB 5.1 MB/s eta 0:00:01\r\u001b[K     |██████████████▊                 | 399 kB 5.1 MB/s eta 0:00:01\r\u001b[K     |███████████████▏                | 409 kB 5.1 MB/s eta 0:00:01\r\u001b[K     |███████████████▌                | 419 kB 5.1 MB/s eta 0:00:01\r\u001b[K     |████████████████                | 430 kB 5.1 MB/s eta 0:00:01\r\u001b[K     |████████████████▎               | 440 kB 5.1 MB/s eta 0:00:01\r\u001b[K     |████████████████▋               | 450 kB 5.1 MB/s eta 0:00:01\r\u001b[K     |█████████████████               | 460 kB 5.1 MB/s eta 0:00:01\r\u001b[K     |█████████████████▍              | 471 kB 5.1 MB/s eta 0:00:01\r\u001b[K     |█████████████████▉              | 481 kB 5.1 MB/s eta 0:00:01\r\u001b[K     |██████████████████▏             | 491 kB 5.1 MB/s eta 0:00:01\r\u001b[K     |██████████████████▌             | 501 kB 5.1 MB/s eta 0:00:01\r\u001b[K     |███████████████████             | 512 kB 5.1 MB/s eta 0:00:01\r\u001b[K     |███████████████████▎            | 522 kB 5.1 MB/s eta 0:00:01\r\u001b[K     |███████████████████▊            | 532 kB 5.1 MB/s eta 0:00:01\r\u001b[K     |████████████████████            | 542 kB 5.1 MB/s eta 0:00:01\r\u001b[K     |████████████████████▍           | 552 kB 5.1 MB/s eta 0:00:01\r\u001b[K     |████████████████████▉           | 563 kB 5.1 MB/s eta 0:00:01\r\u001b[K     |█████████████████████▏          | 573 kB 5.1 MB/s eta 0:00:01\r\u001b[K     |█████████████████████▋          | 583 kB 5.1 MB/s eta 0:00:01\r\u001b[K     |██████████████████████          | 593 kB 5.1 MB/s eta 0:00:01\r\u001b[K     |██████████████████████▎         | 604 kB 5.1 MB/s eta 0:00:01\r\u001b[K     |██████████████████████▊         | 614 kB 5.1 MB/s eta 0:00:01\r\u001b[K     |███████████████████████         | 624 kB 5.1 MB/s eta 0:00:01\r\u001b[K     |███████████████████████▌        | 634 kB 5.1 MB/s eta 0:00:01\r\u001b[K     |███████████████████████▉        | 645 kB 5.1 MB/s eta 0:00:01\r\u001b[K     |████████████████████████▏       | 655 kB 5.1 MB/s eta 0:00:01\r\u001b[K     |████████████████████████▋       | 665 kB 5.1 MB/s eta 0:00:01\r\u001b[K     |█████████████████████████       | 675 kB 5.1 MB/s eta 0:00:01\r\u001b[K     |█████████████████████████▍      | 686 kB 5.1 MB/s eta 0:00:01\r\u001b[K     |█████████████████████████▊      | 696 kB 5.1 MB/s eta 0:00:01\r\u001b[K     |██████████████████████████▏     | 706 kB 5.1 MB/s eta 0:00:01\r\u001b[K     |██████████████████████████▌     | 716 kB 5.1 MB/s eta 0:00:01\r\u001b[K     |██████████████████████████▉     | 727 kB 5.1 MB/s eta 0:00:01\r\u001b[K     |███████████████████████████▎    | 737 kB 5.1 MB/s eta 0:00:01\r\u001b[K     |███████████████████████████▋    | 747 kB 5.1 MB/s eta 0:00:01\r\u001b[K     |████████████████████████████    | 757 kB 5.1 MB/s eta 0:00:01\r\u001b[K     |████████████████████████████▍   | 768 kB 5.1 MB/s eta 0:00:01\r\u001b[K     |████████████████████████████▊   | 778 kB 5.1 MB/s eta 0:00:01\r\u001b[K     |█████████████████████████████▏  | 788 kB 5.1 MB/s eta 0:00:01\r\u001b[K     |█████████████████████████████▌  | 798 kB 5.1 MB/s eta 0:00:01\r\u001b[K     |██████████████████████████████  | 808 kB 5.1 MB/s eta 0:00:01\r\u001b[K     |██████████████████████████████▎ | 819 kB 5.1 MB/s eta 0:00:01\r\u001b[K     |██████████████████████████████▋ | 829 kB 5.1 MB/s eta 0:00:01\r\u001b[K     |███████████████████████████████ | 839 kB 5.1 MB/s eta 0:00:01\r\u001b[K     |███████████████████████████████▍| 849 kB 5.1 MB/s eta 0:00:01\r\u001b[K     |███████████████████████████████▉| 860 kB 5.1 MB/s eta 0:00:01\r\u001b[K     |████████████████████████████████| 865 kB 5.1 MB/s \n",
            "\u001b[?25hInstalling collected packages: pyfiglet\n",
            "Successfully installed pyfiglet-0.8.post1\n"
          ]
        }
      ]
    },
    {
      "cell_type": "code",
      "metadata": {
        "id": "kIpCQchzcDu9"
      },
      "source": [
        "# This is where we import libraries and functions.\n",
        "\n",
        "from pyfiglet import figlet_format\n",
        "\n",
        "#from pyfiglet import figlet_format as ..."
      ],
      "execution_count": null,
      "outputs": []
    },
    {
      "cell_type": "markdown",
      "metadata": {
        "id": "f-aoaQEScDu9"
      },
      "source": [
        "Now that we've done this, we can use the function later on in this document!  Some people prefer to do imports right in the cells they'll be using the imports in, and others like to have all the imports at the top of the document.  Personally, I keep all of my imports in one spot at the top of the document to ensure I know everything I am using, but this is preference.\n",
        "\n",
        "Now let's do a brief introduction to variables and variable naming!"
      ]
    },
    {
      "cell_type": "code",
      "metadata": {
        "id": "wAmpa-SCcDu-",
        "outputId": "4a8522b0-3330-4c9b-dcd9-cfb9a5236cf1",
        "colab": {
          "base_uri": "https://localhost:8080/"
        }
      },
      "source": [
        "#------------------------------------------------------------------------------\n",
        "#   Variables in Python include quite a few types; today we focus on\n",
        "#       integers, floating point numbers, and strings\n",
        "#   Protip for variable names, do not use: O0 l1 1337\n",
        "#------------------------------------------------------------------------------\n",
        "\n",
        "a = 12          #   int\n",
        "b = 12.56       #   float\n",
        "c = '1'         #   string\n",
        "d = \"twelve\"    #   string\n",
        "\n",
        "print(type(a))\n",
        "print(a)\n",
        "print(type(b))\n",
        "print(b)\n",
        "print(type(c))\n",
        "print(c)\n",
        "print(type(d))\n",
        "print(d)"
      ],
      "execution_count": null,
      "outputs": [
        {
          "output_type": "stream",
          "name": "stdout",
          "text": [
            "<class 'int'>\n",
            "12\n",
            "<class 'float'>\n",
            "12.56\n",
            "<class 'str'>\n",
            "1\n",
            "<class 'str'>\n",
            "twelve\n"
          ]
        }
      ]
    },
    {
      "cell_type": "code",
      "metadata": {
        "id": "lDC7aJCJcDu-",
        "outputId": "605e3167-1ccc-4739-9e1a-4f347deb68f0",
        "colab": {
          "base_uri": "https://localhost:8080/"
        }
      },
      "source": [
        "e = type(a)\n",
        "\n",
        "print(e)"
      ],
      "execution_count": null,
      "outputs": [
        {
          "output_type": "stream",
          "name": "stdout",
          "text": [
            "<class 'int'>\n"
          ]
        }
      ]
    },
    {
      "cell_type": "code",
      "metadata": {
        "id": "amtESIYocDu-",
        "outputId": "8654cc52-73df-41c8-d149-07739e37b83f",
        "colab": {
          "base_uri": "https://localhost:8080/"
        }
      },
      "source": [
        "#------------------------------------------------------------------------------\n",
        "#   Sometimes names will get reused (like in recursion) and you'll end up with different printed\n",
        "#     outcomes than you expected.  Here's an example.\n",
        "#------------------------------------------------------------------------------\n",
        "\n",
        "hello = \"\\n\\tHello, world!\"\n",
        "hello = \"\\n\\t\\tGoodbye!\"\n",
        "bye = hello\n",
        "\n",
        "print(\"\\n\\tHello, world!\")\n",
        "\n",
        "print(bye)"
      ],
      "execution_count": null,
      "outputs": [
        {
          "output_type": "stream",
          "name": "stdout",
          "text": [
            "\n",
            "\tHello, world!\n",
            "\n",
            "\t\tGoodbye!\n"
          ]
        }
      ]
    },
    {
      "cell_type": "markdown",
      "metadata": {
        "id": "j6bAepUdcDu_"
      },
      "source": [
        "Since we're working with strings and printing, let's talk about functions in a print statement coupled with some word-play."
      ]
    },
    {
      "cell_type": "code",
      "metadata": {
        "id": "91JkpNvAcDu_",
        "outputId": "3e9c1f52-5dff-4d44-dea9-a45f50d28c1c",
        "colab": {
          "base_uri": "https://localhost:8080/"
        }
      },
      "source": [
        "name = \"spider overlord\"\n",
        "print(name.title())\n",
        "print(name.upper())\n",
        "\n",
        "name = \"spIdEr ovErlOrd\"\n",
        "print(name)\n",
        "print(name.lower())\n",
        "\n",
        "word1 = \"spider\"\n",
        "word2 = \"overlord\"\n",
        "full_name = word1 + \" \" + word2\n",
        "print(full_name.title())"
      ],
      "execution_count": null,
      "outputs": [
        {
          "output_type": "stream",
          "name": "stdout",
          "text": [
            "Spider Overlord\n",
            "SPIDER OVERLORD\n",
            "spIdEr ovErlOrd\n",
            "spider overlord\n",
            "Spider Overlord\n"
          ]
        }
      ]
    },
    {
      "cell_type": "markdown",
      "metadata": {
        "id": "9nTVg8YAcDu_"
      },
      "source": [
        "Another great function to use with print statements is the `.strip()` family.  For this we'll use some fun examples."
      ]
    },
    {
      "cell_type": "code",
      "metadata": {
        "id": "8czH_zfdcDu_",
        "outputId": "bc7e791c-f307-45a5-fb70-ff01f0cc1786",
        "colab": {
          "base_uri": "https://localhost:8080/"
        }
      },
      "source": [
        "best_pokemon = \"Gengar \"\n",
        "print(best_pokemon, \"Test\")\n",
        "print(best_pokemon.rstrip(), \"Test\")\n",
        "\n",
        "best_pokemon = best_pokemon.rstrip()\n",
        "print (best_pokemon, \"Test\")\n",
        "\n",
        "best_ygo = \" Exodia\"\n",
        "print(\"Test\", best_ygo)\n",
        "print(\"Test\", best_ygo.lstrip())\n",
        "\n",
        "best_ygo = best_ygo.lstrip()\n",
        "print(\"Test\", best_ygo)\n",
        "\n",
        "best_digi = \" Renamon \"\n",
        "print(\"Test\", best_digi, \"Test\")\n",
        "print(\"Test\", best_digi.strip(), \"Test\")\n",
        "\n",
        "best_digi = best_digi.strip()\n",
        "print(\"Test\", best_digi, \"Test\")"
      ],
      "execution_count": null,
      "outputs": [
        {
          "output_type": "stream",
          "name": "stdout",
          "text": [
            "Gengar  Test\n",
            "Gengar Test\n",
            "Gengar Test\n",
            "Test  Exodia\n",
            "Test Exodia\n",
            "Test Exodia\n",
            "Test  Renamon  Test\n",
            "Test Renamon Test\n",
            "Test Renamon Test\n"
          ]
        }
      ]
    },
    {
      "cell_type": "markdown",
      "metadata": {
        "id": "KTIBnwvJcDvA"
      },
      "source": [
        "Finally, it's maths time!  Let's look at how we can incorporate maths and strings, and print multiple types at once before going into some basic equations."
      ]
    },
    {
      "cell_type": "code",
      "metadata": {
        "id": "faEfx4yqcDvA",
        "outputId": "0a5a0f56-b7d5-44d8-affe-775528113e43",
        "colab": {
          "base_uri": "https://localhost:8080/"
        }
      },
      "source": [
        "#------------------------------------------------------------------------------\n",
        "\n",
        "z = a + b\n",
        "print(type(z))\n",
        "print(z)        #   Prints as is.\n",
        "print(int(z))   #   Prints only the integer of the float\n",
        "print(round(z)) #   Rounds to the nearst int based on decimals\n",
        "\n",
        "print()\n",
        "\n",
        "y = a + 25\n",
        "print(type(y))\n",
        "print(\"The variable y is:\", y, \"\\n\")\n",
        "\n",
        "print(\n",
        "    \"Spiders are super awesome.\\n\" \\\n",
        "    \"Why? \\nBecause I, the spider overlord, say so, obviously!\"\n",
        "     )\n",
        "    \n",
        "print(\n",
        "      \"Here we have\", a,\n",
        "      \"being added to\", b,\n",
        "      \"to equal\", z,\n",
        "      \"but we don't want decimals so let's round it to\", round(z)\n",
        "      )"
      ],
      "execution_count": null,
      "outputs": [
        {
          "output_type": "stream",
          "name": "stdout",
          "text": [
            "<class 'float'>\n",
            "24.560000000000002\n",
            "24\n",
            "25\n",
            "\n",
            "<class 'int'>\n",
            "The variable y is: 37 \n",
            "\n",
            "Spiders are super awesome.\n",
            "Why? \n",
            "Because I, the spider overlord, say so, obviously!\n",
            "Here we have 12 being added to 12.56 to equal 24.560000000000002 but we don't want decimals so let's round it to 25\n"
          ]
        }
      ]
    },
    {
      "cell_type": "code",
      "metadata": {
        "id": "lnWKjEMCcDvA",
        "outputId": "82fa8ca1-f604-4802-b0fb-2ec77bdc48c6",
        "colab": {
          "base_uri": "https://localhost:8080/"
        }
      },
      "source": [
        "print(13 + 6)\n",
        "print(24 - 7)\n",
        "print(4 * 12)\n",
        "print(80 / 10)\n",
        "\n",
        "print(3 ** 2)\n",
        "\n",
        "print(5 + 2 * 14)     #python will do PEMDAS\n",
        "print((5 + 2) * 14)\n",
        "\n",
        "print(3.0 + 0.6)\n",
        "print(0.2 - 7)\n",
        "print(4 * 0.1)\n",
        "print(80 / 0.2)"
      ],
      "execution_count": null,
      "outputs": [
        {
          "output_type": "stream",
          "name": "stdout",
          "text": [
            "19\n",
            "17\n",
            "48\n",
            "8.0\n",
            "9\n",
            "33\n",
            "98\n",
            "3.6\n",
            "-6.8\n",
            "0.4\n",
            "400.0\n"
          ]
        }
      ]
    },
    {
      "cell_type": "markdown",
      "metadata": {
        "id": "h1WDEzoLcDvA"
      },
      "source": [
        "<div class=\"alert alert-block alert-danger\">\n",
        "    <font color = red>Assignment</font>: Find or write a short (one paragraph) write-up / story.  You'll be printing the paragraph with the following requirements:\n",
        "\n",
        "* Uses at least one newline.\n",
        "* There is a number stored as its own variable, and printed using that variable within the paragraph.\n",
        "* Any names are stored as their own variable(s) and there is at least one name.\n",
        "* For emphasis, use upper or lower functions on variables.  Create new variables if needed.\n",
        "* Bonus Points: Print the solution to an equastion in the paragraph.  Example, if you need to use the number 5 how could you have that print without breaking up the following sentence: Justin's cat is 5 years old.\n",
        "</div>\n"
      ]
    },
    {
      "cell_type": "code",
      "source": [
        "novel = '\\'so i\\'m a spider, so what?\\''\n",
        "protag = 'spider demon'\n",
        "episode = 24\n",
        "print(\"\\nJapanese light novels and anime are all following the \\'reincarnated-into-another-world\\' trend this season.\\nI was just reading the novel\", novel.title(), \"which is about a teenager that gets reincarnated as a spider monster in a setting that runs on game logic.\\nAt first it was an underdog story, but then it went the way of silly shounen escalation, along with \\'the-protagonist-isn\\'t-human-so-can\\'t-be-held-to-our-standards\\' justification.\")\n",
        "#Tried to print it all in 1 statement, but I think it must be above a buffer size limit because it didn't let me print it all at once\n",
        "print(\"The protagonist goes from a\", protag, \"to a\", protag.upper(), \"And somehow the last anime episode -\", episode, \"- was adapted from volume 5 of the light novels.\\nMeaning that each volume was covered in about\", round(episode / 5), \"episodes.\")"
      ],
      "metadata": {
        "colab": {
          "base_uri": "https://localhost:8080/"
        },
        "id": "UzaYl2HoWu7u",
        "outputId": "aa02a760-6c30-4d4e-ad5f-21826a79c90f"
      },
      "execution_count": null,
      "outputs": [
        {
          "output_type": "stream",
          "name": "stdout",
          "text": [
            "\n",
            "Japanese light novels and anime are all following the 'reincarnated-into-another-world' trend this season.\n",
            "I was just reading the novel 'So I'M A Spider, So What?' which is about a teenager that gets reincarnated as a spider monster in a setting that runs on game logic.\n",
            "At first it was an underdog story, but then it went the way of silly shounen escalation, along with 'the-protagonist-isn't-human-so-can't-be-held-to-our-standards' justification.\n",
            "The protagonist goes from a spider demon to a SPIDER DEMON And somehow the last anime episode - 24 - was adapted from volume 5 of the light novels.\n",
            "Meaning that each volume was covered in about 5 episodes.\n"
          ]
        }
      ]
    },
    {
      "cell_type": "markdown",
      "metadata": {
        "id": "8nuxuatZcDvA"
      },
      "source": [
        "Finally, we made it!  Now we're going to use both our imported function from earlier, as well as create our homework signature going forward!  As mentioned last week, we are interested in ASCII art here.  You can make a handle to use for this assignment (like my main one: `Levitannin`), your name/nickname, or try to print out an image!  Whichever you chose, note that this is your signature for all future challenges and homework assignments and MUST be in all turned-in notebooks."
      ]
    },
    {
      "cell_type": "code",
      "metadata": {
        "id": "fnhJ9U-scDvB",
        "colab": {
          "base_uri": "https://localhost:8080/"
        },
        "outputId": "516c8bd5-8a71-4eba-d473-f4268a9bfbd9"
      },
      "source": [
        "#------------------------------------------------------------------------------\n",
        "#   Here's my example!\n",
        "\n",
        "\n",
        "text = \"Spider\"\n",
        "print(text)\n",
        "result = figlet_format(text, font=\"banner3-D\")\n",
        "print(result)\n"
      ],
      "execution_count": null,
      "outputs": [
        {
          "output_type": "stream",
          "name": "stdout",
          "text": [
            "Spider\n",
            ":'######::'########::'####:'########::'########:'########::\n",
            "'##... ##: ##.... ##:. ##:: ##.... ##: ##.....:: ##.... ##:\n",
            " ##:::..:: ##:::: ##:: ##:: ##:::: ##: ##::::::: ##:::: ##:\n",
            ". ######:: ########::: ##:: ##:::: ##: ######::: ########::\n",
            ":..... ##: ##.....:::: ##:: ##:::: ##: ##...:::: ##.. ##:::\n",
            "'##::: ##: ##::::::::: ##:: ##:::: ##: ##::::::: ##::. ##::\n",
            ". ######:: ##::::::::'####: ########:: ########: ##:::. ##:\n",
            ":......:::..:::::::::....::........:::........::..:::::..::\n",
            "\n"
          ]
        }
      ]
    },
    {
      "cell_type": "markdown",
      "metadata": {
        "id": "7wqck6yucDvB"
      },
      "source": [
        "<div class=\"alert alert-block alert-danger\">\n",
        "    <font color = red>Assignment</font>: Create a Hello World python script.  However, unlike initial scripts you may have tried in the past, this challenge does not end with text!\n",
        "\n",
        "Here are mission requirements:\n",
        "* Know how to import libraries\n",
        "* Find an ASCII art library\n",
        "* Know how to print text or strings.\n",
        "* Convert a string to ASCII art.\n",
        "* Print ASCII art text.\n",
        "* Print ASCII art as your symbol for future challenges!\n",
        "* BONUS CHALLENGE: Print art using ONE print statement!\n",
        "</div>"
      ]
    },
    {
      "cell_type": "code",
      "metadata": {
        "id": "-cJUgbEXcDvB",
        "colab": {
          "base_uri": "https://localhost:8080/"
        },
        "outputId": "0d04fba5-1f55-47e8-c8d3-cac6d05b33ed"
      },
      "source": [
        "handle = \"moonbird\"\n",
        "sig = figlet_format(handle, font=\"dotmatrix\")\n",
        "print(sig)"
      ],
      "execution_count": null,
      "outputs": [
        {
          "output_type": "stream",
          "name": "stdout",
          "text": [
            "                                                            _               \n",
            "                                                           (_)              \n",
            "  _  _   _  _      _  _  _        _  _  _     _  _  _  _   (_) _  _  _      \n",
            " (_)(_)_(_)(_)  _ (_)(_)(_) _  _ (_)(_)(_) _ (_)(_)(_)(_)_ (_)(_)(_)(_)_    \n",
            "(_)   (_)   (_)(_)         (_)(_)         (_)(_)        (_)(_)        (_)   \n",
            "(_)   (_)   (_)(_)         (_)(_)         (_)(_)        (_)(_)        (_)   \n",
            "(_)   (_)   (_)(_) _  _  _ (_)(_) _  _  _ (_)(_)        (_)(_) _  _  _(_)   \n",
            "(_)   (_)   (_)   (_)(_)(_)      (_)(_)(_)   (_)        (_)(_)(_)(_)(_)     \n",
            "                                                                            \n",
            "                                                                            \n",
            "    _                           _    \n",
            "   (_)                         (_)   \n",
            " _  _   _       _  _   _  _  _ (_)   \n",
            "(_)(_) (_)_  _ (_)(_)_(_)(_)(_)(_)   \n",
            "   (_)   (_)(_)     (_)        (_)   \n",
            "   (_)   (_)        (_)        (_)   \n",
            " _ (_) _ (_)        (_)_  _  _ (_)   \n",
            "(_)(_)(_)(_)          (_)(_)(_)(_)   \n",
            "                                     \n",
            "                                     \n",
            "\n"
          ]
        }
      ]
    }
  ]
}